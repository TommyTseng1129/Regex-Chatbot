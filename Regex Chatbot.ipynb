{
 "cells": [
  {
   "cell_type": "code",
   "execution_count": 1,
   "metadata": {},
   "outputs": [],
   "source": [
    "import re\n",
    "import random\n",
    "\n",
    "modeldict1 = { \"where do(.)+\" : ['Wallace Wade stadium'],\n",
    "\"how long(.+)\": ['40 years !!', \"Please google that yourself\"],\n",
    "\"wh(o|at)( i|')s (the |coach k\\?|k.+\\?)(coach of the duke basketball team\\? , |name of duke's basketball coach\\?)\": [\"Mike Krzyzewski !!\"],\n",
    "\"w(hat|ho|as+)('s up, chatbot\\?|\\sare you\\?|\\sdo you do\\?|u+p+\\?)\": [\"I am a beautiful chatbot\", \"I have 5 seconds for you\"],\n",
    "\"h(i|ello),?(\\s)?(how are you)?(\\?|\\!)\": ['What do you want from me?', 'Hi, very nice to meet you!!'],\n",
    "\"what is the du(.)+ mascot\\?\" : ['Blue Devil !!'],\n",
    "\"wh(o|at) is (coach k\\?|k.+\\?)\": [\"He is Duke’s basketball coach !! \"] }"
   ]
  },
  {
   "cell_type": "code",
   "execution_count": 2,
   "metadata": {},
   "outputs": [],
   "source": [
    " default = [ 'Hmmmm, let me think about that', 'Clearly you are not very sophisticated' ]"
   ]
  },
  {
   "cell_type": "code",
   "execution_count": 3,
   "metadata": {},
   "outputs": [],
   "source": [
    "prompt = ['''Where does Duke play basketball?''','''What is the Duke mascot?''', '''How long has Mike Krzyzewski coached at Duke?''', '''What is K-ville?''', '''What is Krzyzewskiville?''', '''Who is Coach K?''', '''What's the name of Duke's basketball coach?''', '''Who is the coach of the Duke basketball team?''', '''Wasssssuuuupppp?''', '''What do you do?''', '''What are you?''', '''Who are you? ''', '''What's up, chatbot?''', '''Hello!''','''Hi, how are you? ''']"
   ]
  },
  {
   "cell_type": "code",
   "execution_count": 4,
   "metadata": {},
   "outputs": [
    {
     "name": "stdout",
     "output_type": "stream",
     "text": [
      "prompt: Where does Duke play basketball?\n",
      "answer: Wallace Wade stadium\n",
      "prompt: How long has Mike Krzyzewski coached at Duke?\n",
      "answer: Please google that yourself\n",
      "prompt: What's the name of Duke's basketball coach?\n",
      "answer: Mike Krzyzewski !!\n",
      "prompt: Wasssssuuuupppp?\n",
      "answer: I am a beautiful chatbot\n",
      "prompt: What do you do?\n",
      "answer: I am a beautiful chatbot\n",
      "prompt: What are you?\n",
      "answer: I am a beautiful chatbot\n",
      "prompt: Who are you? \n",
      "answer: I am a beautiful chatbot\n",
      "prompt: What's up, chatbot?\n",
      "answer: I am a beautiful chatbot\n",
      "prompt: Hello!\n",
      "answer: Hi, very nice to meet you!!\n",
      "prompt: Hi, how are you? \n",
      "answer: What do you want from me?\n",
      "prompt: What is the Duke mascot?\n",
      "answer: Blue Devil !!\n",
      "prompt: What is K-ville?\n",
      "answer: He is Duke’s basketball coach !! \n",
      "prompt: What is Krzyzewskiville?\n",
      "answer: He is Duke’s basketball coach !! \n",
      "prompt: Who is Coach K?\n",
      "answer: He is Duke’s basketball coach !! \n"
     ]
    }
   ],
   "source": [
    "matched=0\n",
    "for pattern in modeldict1:\n",
    "    \n",
    "    for p in prompt:\n",
    "        \n",
    "        if re.search(pattern,p.lower()):\n",
    "            matched += 1\n",
    "            ans=random.choice(modeldict1[pattern])\n",
    "            print(f'prompt: {p}\\nanswer: {ans}',sep='\\n')\n",
    "            \n",
    "if matched==0:\n",
    "    ans=random.choice(default)"
   ]
  }
 ],
 "metadata": {
  "kernelspec": {
   "display_name": "Python 3",
   "language": "python",
   "name": "python3"
  },
  "language_info": {
   "codemirror_mode": {
    "name": "ipython",
    "version": 3
   },
   "file_extension": ".py",
   "mimetype": "text/x-python",
   "name": "python",
   "nbconvert_exporter": "python",
   "pygments_lexer": "ipython3",
   "version": "3.8.3"
  }
 },
 "nbformat": 4,
 "nbformat_minor": 4
}
